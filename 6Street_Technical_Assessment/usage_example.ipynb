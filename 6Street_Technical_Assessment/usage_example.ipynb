{
 "cells": [
  {
   "cell_type": "code",
   "execution_count": 3,
   "metadata": {},
   "outputs": [
    {
     "data": {
      "text/plain": [
       "True"
      ]
     },
     "execution_count": 3,
     "metadata": {},
     "output_type": "execute_result"
    }
   ],
   "source": [
    "from dotenv import load_dotenv\n",
    "from stock_quotes import StockClient\n",
    "load_dotenv()"
   ]
  },
  {
   "cell_type": "markdown",
   "metadata": {},
   "source": [
    "Fetching data for Newsmax from yesterday because oh my god why is their market cap so high when their website looks like it's from the 90s."
   ]
  },
  {
   "cell_type": "code",
   "execution_count": 4,
   "metadata": {},
   "outputs": [
    {
     "name": "stdout",
     "output_type": "stream",
     "text": [
      "Trading data for NMAX on 2025-04-01:\n",
      "open: 125.98\n",
      "high: 265.0\n",
      "low: 114.22\n",
      "close: 233.0\n",
      "volume: 11001372\n"
     ]
    }
   ],
   "source": [
    "client = StockClient()\n",
    "symbol = 'NMAX'\n",
    "date = '2025-04-01'\n",
    "\n",
    "stock_data = client.lookup(symbol, date)\n",
    "print(f\"Trading data for {symbol} on {date}:\")\n",
    "for key, value in stock_data.items():\n",
    "    print(f\"{key}: {value}\")\n"
   ]
  },
  {
   "cell_type": "markdown",
   "metadata": {},
   "source": [
    "Tests out min and max for Tesla and checks to make sure full retrieval functionality works when n > 100."
   ]
  },
  {
   "cell_type": "code",
   "execution_count": 5,
   "metadata": {},
   "outputs": [
    {
     "name": "stdout",
     "output_type": "stream",
     "text": [
      "TSLA minimum over past year: 138.8025\n",
      "TSLA maximum over past year: 488.5399\n"
     ]
    }
   ],
   "source": [
    "TSLA_min = client.min('TSLA', 365)\n",
    "print(f\"TSLA minimum over past year: {TSLA_min}\")\n",
    "\n",
    "TSLA_max = client.max('TSLA', 365)\n",
    "print(f\"TSLA maximum over past year: {TSLA_max}\")\n"
   ]
  },
  {
   "cell_type": "markdown",
   "metadata": {},
   "source": [
    "Checks that full retrieval functionality works for lookup when the date is more than 100 days ago."
   ]
  },
  {
   "cell_type": "code",
   "execution_count": 6,
   "metadata": {},
   "outputs": [
    {
     "name": "stdout",
     "output_type": "stream",
     "text": [
      "Trading data for TSLA on 2024-04-03:\n",
      "open: 164.02\n",
      "high: 168.82\n",
      "low: 163.28\n",
      "close: 168.38\n",
      "volume: 82223543\n"
     ]
    }
   ],
   "source": [
    "client = StockClient()\n",
    "symbol = 'TSLA'\n",
    "date = '2024-04-03'\n",
    "\n",
    "stock_data = client.lookup(symbol, date)\n",
    "print(f\"Trading data for {symbol} on {date}:\")\n",
    "for key, value in stock_data.items():\n",
    "    print(f\"{key}: {value}\")\n"
   ]
  }
 ],
 "metadata": {
  "kernelspec": {
   "display_name": "cos333",
   "language": "python",
   "name": "python3"
  },
  "language_info": {
   "codemirror_mode": {
    "name": "ipython",
    "version": 3
   },
   "file_extension": ".py",
   "mimetype": "text/x-python",
   "name": "python",
   "nbconvert_exporter": "python",
   "pygments_lexer": "ipython3",
   "version": "3.12.6"
  }
 },
 "nbformat": 4,
 "nbformat_minor": 2
}
